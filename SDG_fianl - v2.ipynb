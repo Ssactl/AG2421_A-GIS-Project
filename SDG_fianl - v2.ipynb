{
  "cells": [
    {
      "cell_type": "code",
      "execution_count": 1,
      "metadata": {},
      "outputs": [],
      "source": [
        "# selenium 4\n",
        "from selenium import webdriver\n",
        "from selenium.webdriver.chrome.service import Service as ChromeService\n",
        "from webdriver_manager.chrome import ChromeDriverManager\n",
        "from selenium.webdriver.support import expected_conditions as EC\n",
        "from selenium.webdriver.common.keys import Keys\n",
        "from selenium.webdriver.support.ui import WebDriverWait\n",
        "from selenium.webdriver.common.by import By\n",
        "from selenium.webdriver.support.ui import Select\n",
        "import time\n",
        "import pandas as pd\n",
        "import numpy as np\n",
        "from selenium.webdriver.common.action_chains import ActionChains"
      ]
    },
    {
      "cell_type": "markdown",
      "metadata": {},
      "source": [
        "strcutrue of our table"
      ]
    },
    {
      "cell_type": "code",
      "execution_count": 327,
      "metadata": {},
      "outputs": [],
      "source": [
        "df = pd.DataFrame(columns=[\n",
        "    'City', 'Interval', 'LCR', 'PGR', 'LCRPGR',\n",
        "    'City Definition data', 'Built-up data', 'Population data',\n",
        "    'Within city definition T1 Built-up (km²)', 'Within city definition T1 Population (*10,000)','Within city definition T1 LCPC (m²/person)',\n",
        "    'Within city definition T2 Built-up (km²)', 'Within city definition T2 Population (*10,000)','Within city definition T2 LCPC (m²/person)',\n",
        "    '% Change in LCPC LCPC (m²/person)', 'Built-up T1', 'Built-up T2'\n",
        "])"
      ]
    },
    {
      "cell_type": "markdown",
      "metadata": {},
      "source": [
        "open the brower with the SDG calculator application first, and then choose the year of T1 manually."
      ]
    },
    {
      "cell_type": "code",
      "execution_count": 272,
      "metadata": {},
      "outputs": [],
      "source": [
        "save_file_path='test.xlsx'"
      ]
    },
    {
      "cell_type": "markdown",
      "metadata": {},
      "source": []
    },
    {
      "cell_type": "code",
      "execution_count": 183,
      "metadata": {},
      "outputs": [],
      "source": [
        "driver = webdriver.Chrome(service=ChromeService(ChromeDriverManager().install()))\n",
        "# Now you can use the driver to interact with the web page\n",
        "driver.get(\"https://gisproject-1.projects.earthengine.app/view/sdg-1131-indicator-v7\")"
      ]
    },
    {
      "cell_type": "code",
      "execution_count": 184,
      "metadata": {},
      "outputs": [
        {
          "name": "stdout",
          "output_type": "stream",
          "text": [
            "D642905659FB2383E8B8C5E5096F4422\n"
          ]
        }
      ],
      "source": [
        "# Get the handle of the original window\n",
        "original_window_handle = driver.current_window_handle\n",
        "print(original_window_handle)"
      ]
    },
    {
      "cell_type": "code",
      "execution_count": 326,
      "metadata": {},
      "outputs": [],
      "source": [
        "driver.switch_to.window(original_window_handle)\n",
        "##############################################################\n",
        "# Select City\n",
        "##############################################################\n",
        "# Find the element using its CSS selector\n",
        "city_element = driver.find_elements(By.CSS_SELECTOR, '#content > div > div.ui-widget.ui-panel.stretch-horizontal.stretch-vertical > div > div.ui-widget.custom-width.ui-panel > div > div:nth-child(3) > div > div:nth-child(2) > div > div.ui-widget.ui-select > div')[0]\n",
        "# print(city_element.get_attribute(\"aria-posinset\"))\n",
        "# # Use JavaScript to modify the aria-posinset attribute value of the element\n",
        "# new_posinset_value = \"Beijing\"  # Replace with the desired new value\n",
        "# driver.execute_script(\"arguments[0].innerText = arguments[1];\", city_element, new_posinset_value)\n",
        "city_element.click()\n",
        "city_options = WebDriverWait(driver, 10).until(\n",
        "    EC.presence_of_all_elements_located((By.CLASS_NAME, 'goog-menuitem-content'))\n",
        ")"
      ]
    },
    {
      "cell_type": "code",
      "execution_count": 248,
      "metadata": {},
      "outputs": [
        {
          "name": "stdout",
          "output_type": "stream",
          "text": [
            "0 Stockholm\n",
            "1 Gothenburg\n",
            "2 Abu Dhabi\n",
            "3 Accra\n",
            "4 Batam\n",
            "5 Beijing\n",
            "6 Buenos Aires\n",
            "7 Cairo\n",
            "8 Charleston\n",
            "9 Dar Es Salaam\n",
            "10 Detroit\n",
            "11 Dodoma\n",
            "12 Dubai\n",
            "13 Gombe\n",
            "14 Guangzhou\n",
            "15 Halle\n",
            "16 Heidelberg\n",
            "17 Islamabad\n",
            "18 Johannesburg\n",
            "19 Kampala\n",
            "20 Karachi\n",
            "21 Katowice\n",
            "22 Kigali\n",
            "23 Kitchener\n",
            "24 Kolkata\n",
            "25 Lagos\n",
            "26 La Paz\n",
            "27 Lilongwe\n",
            "28 Luanda\n",
            "29 Manama\n",
            "30 Mexico City\n",
            "31 Mogadishu\n",
            "32 Mumbai\n",
            "33 Nairobi\n",
            "34 New York\n",
            "35 Niamey\n",
            "36 Nouakchott\n",
            "37 Ouagadougou\n",
            "38 Quito\n",
            "39 Rio de Janeiro\n",
            "40 Shanghai\n",
            "41 Sydney\n",
            "42 Tehran\n",
            "43 Tianjin\n",
            "44 Xiamen\n",
            "45 Yinchuan\n",
            "46 \n",
            "47 \n",
            "48 \n",
            "49 \n",
            "50 \n",
            "51 \n",
            "52 \n",
            "53 \n",
            "54 \n",
            "55 \n"
          ]
        }
      ],
      "source": [
        "for index,city in enumerate(city_options):\n",
        "  print(index,city.text)"
      ]
    },
    {
      "cell_type": "code",
      "execution_count": null,
      "metadata": {},
      "outputs": [],
      "source": [
        "# Find the element using its CSS selector\n",
        "\n",
        "city_element = driver.find_elements(By.CSS_SELECTOR, '#content > div > div.ui-widget.ui-panel.stretch-horizontal.stretch-vertical > div > div.ui-widget.custom-width.ui-panel > div > div:nth-child(3) > div > div:nth-child(2) > div > div.ui-widget.ui-select > div')[0]\n",
        "\n",
        "builtup_element = driver.find_elements(By.CSS_SELECTOR, '#content > div > div.ui-widget.ui-panel.stretch-horizontal.stretch-vertical > div > div.ui-widget.custom-width.ui-panel > div > div:nth-child(4) > div > div:nth-child(3) > div > div > div > div:nth-child(1) > div > div.ui-widget.ui-select > div')[0]\n",
        "\n",
        "population_element = driver.find_elements(By.CSS_SELECTOR, '#content > div > div.ui-widget.ui-panel.stretch-horizontal.stretch-vertical > div > div.ui-widget.custom-width.ui-panel > div > div:nth-child(4) > div > div:nth-child(3) > div > div > div > div:nth-child(3) > div > div.ui-widget.ui-select > div')[0]"
      ]
    },
    {
      "cell_type": "code",
      "execution_count": 328,
      "metadata": {},
      "outputs": [],
      "source": [
        "index_in_df=0"
      ]
    },
    {
      "cell_type": "code",
      "execution_count": 330,
      "metadata": {},
      "outputs": [
        {
          "name": "stdout",
          "output_type": "stream",
          "text": [
            "Clicking on Stockholm - index:0\n"
          ]
        }
      ],
      "source": [
        "##############################################################\n",
        "# interate City\n",
        "##############################################################\n",
        "for index, city in enumerate(city_options[0:],start=0):\n",
        "  if city.text=='':\n",
        "        continue\n",
        "  city_name = city.text\n",
        "  print(f\"Clicking on {city_name} - index:{index}\")\n",
        "\n",
        "  # 点击城市\n",
        "  city.click()\n",
        "\n",
        "  ##############################################################\n",
        "  # generate city definition\n",
        "  ##############################################################\n",
        "  # press the generate city definition buttons\n",
        "  generate_city_definition_T2_element=driver.find_elements(By.CSS_SELECTOR, '#content > div > div.ui-widget.ui-panel.stretch-horizontal.stretch-vertical > div > div.ui-widget.custom-width.ui-panel > div > div:nth-child(3) > div > div:nth-child(12) > div > div:nth-child(1) > div')[0]\n",
        "  generate_city_definition_T1_element=driver.find_elements(By.CSS_SELECTOR, '#content > div > div.ui-widget.ui-panel.stretch-horizontal.stretch-vertical > div > div.ui-widget.custom-width.ui-panel > div > div:nth-child(3) > div > div:nth-child(12) > div > div:nth-child(2) > div')[0]\n",
        "  generate_city_definition_T2_element.click()\n",
        "  generate_city_definition_T1_element.click()\n",
        "\n",
        "  # give the appliciton some time to generate the definitions\n",
        "  time.sleep(20)\n",
        "\n",
        "  ##############################################################\n",
        "  # iterate builtup dataset\n",
        "  ##############################################################\n",
        "  builtup_element.click()\n",
        "  builtup_options = WebDriverWait(driver, 10).until(\n",
        "      EC.presence_of_all_elements_located((By.CLASS_NAME, 'goog-menuitem-content')))  \n",
        "\n",
        "  for index, builtup in enumerate(builtup_options[0:],start=0):\n",
        "    if builtup.text=='':\n",
        "        continue\n",
        "    if builtup.text=='Own data':\n",
        "        builtup.click()\n",
        "        break\n",
        "    print(f'Clicking on builtup {builtup.text} - index: {index}')\n",
        "    builtup.click()\n",
        "\n",
        "    ##############################################################\n",
        "    # iterate Population dataset\n",
        "    ##############################################################\n",
        "    population_element.click()\n",
        "    population_options = WebDriverWait(driver, 10).until(\n",
        "        EC.presence_of_all_elements_located((By.CLASS_NAME, 'goog-menuitem-content'))\n",
        "    )\n",
        "      \n",
        "    for index, population in enumerate(population_options[0:],start=0):\n",
        "      if population.text=='':\n",
        "        continue   \n",
        "      if population.text=='Own data':\n",
        "         population.click()\n",
        "         break \n",
        "      print(f'Clicking on  population {population.text} - index: {index}') \n",
        "      population.click()\n",
        "\n",
        "      ##############################################################\n",
        "      # compute indicators\n",
        "      ##############################################################\n",
        "      #click the compute button\n",
        "      compute_element=driver.find_elements(By.CSS_SELECTOR, '#content > div > div.ui-widget.ui-panel.stretch-horizontal.stretch-vertical > div > div.ui-widget.custom-width.ui-panel > div > div:nth-child(4) > div > div:nth-child(4) > div > div > div > div.ui-widget.ui-button > div')[0]\n",
        "      compute_element.click()\n",
        "      time.sleep(10)\n",
        "\n",
        "      ##############################################################\n",
        "      # collect the indicators\n",
        "      ##############################################################\n",
        "      # go through each chart in a new window\n",
        "      pop_out_icons = driver.find_elements(By.CLASS_NAME,\"pop-out-icon\")  \n",
        "      # print(len(pop_out_icons))\n",
        "      #click the pop put icon\n",
        "      for icon in pop_out_icons:\n",
        "        icon.click()\n",
        "\n",
        "      # Assuming now have four windows (the original one and the new three)\n",
        "      window_handles = driver.window_handles\n",
        "      # print(window_handles)\n",
        "\n",
        "      # Switch to the new window or tab\n",
        "      new_window_handle = [handle for handle in window_handles if handle != original_window_handle]\n",
        "\n",
        "      for i,w in enumerate(new_window_handle):\n",
        "        driver.switch_to.window(w)   \n",
        "        cityname=driver.find_elements(By.CSS_SELECTOR,'#chart-container > div > div > table > tbody > tr > td:nth-child(1)')\n",
        "        LCPC=driver.find_elements(By.CSS_SELECTOR, '#chart-container > div > div:nth-child(1) > div > svg > g:nth-child(3) > text:nth-child(1)')\n",
        "        CIUI=driver.find_elements(By.CSS_SELECTOR, '#chart-container > div > div:nth-child(1) > div > svg > g:nth-child(3) > text:nth-child(1)')\n",
        "        \n",
        "        # different charts\n",
        "        #primary\n",
        "        if cityname:\n",
        "          # print('Print values with sleep')\n",
        "          values=driver.find_elements(By.CSS_SELECTOR,'#chart-container > div > div > table > tbody > tr>td')\n",
        "          keys=driver.find_elements(By.CSS_SELECTOR,'#chart-container > div > div > table > thead > tr>th')      \n",
        "          for k,v in zip(keys,values):\n",
        "            df.at[index_in_df,k.text]=v.text\n",
        "\n",
        "        else:\n",
        "          #LCPC\n",
        "          if 'Land Consumption per Capita' in LCPC[0].text:  \n",
        "            rectangles = driver.find_elements(By.CSS_SELECTOR, '#chart-container > div > div:nth-child(1) > div > svg > g:nth-child(5) > g:nth-child(2) > g:nth-child(1)>rect')\n",
        "            rectangles = driver.find_elements(By.CSS_SELECTOR, '#chart-container > div > div:nth-child(1) > div > svg > g:nth-child(5) > g:nth-child(2) > g:nth-child(1)>rect')\n",
        "            # print(len(rectangles))\n",
        "            for r in rectangles:\n",
        "            # 使用ActionChains进行悬停操作\n",
        "              actions = ActionChains(driver)  \n",
        "              actions.move_to_element(r).perform()\n",
        "              # 等待一段时间\n",
        "              time.sleep(2)  # 这里的1表示等待1秒，你可以根据需要调整时间 \n",
        "              texts=driver.find_elements(By.CSS_SELECTOR,'#chart-container > div > div:nth-child(1) > div > svg > g:nth-child(7) > g > g > text')\n",
        "              # print(len(texts))\n",
        "              # for t in texts:\n",
        "              #   print(t.text)\n",
        "              if len(texts)>0:\n",
        "                df.at[index_in_df,texts[1].text[:-1]+' '+texts[0].text]=texts[2].text\n",
        "              \n",
        "          #CIUI\n",
        "          # if \"Change in Urban Infill\" in CIUI[0].text:\n",
        "          else:\n",
        "            rectangles = driver.find_elements(By.CSS_SELECTOR, '#chart-container > div > div:nth-child(1) > div > svg > g:nth-child(5) > g:nth-child(2) > g:nth-child(1)>rect')\n",
        "            # print(len(rectangles))\n",
        "            for r in rectangles:\n",
        "            # 使用ActionChains进行悬停操作\n",
        "              actions = ActionChains(driver)  \n",
        "              actions.move_to_element(r).perform()\n",
        "              # 等待一段时间\n",
        "              time.sleep(2)  # 这里的1表示等待1秒，你可以根据需要调整时间 \n",
        "              texts=driver.find_elements(By.CSS_SELECTOR,'#chart-container > div > div:nth-child(1) > div > svg > g:nth-child(7)> g > g > text')\n",
        "              # print(len(texts))\n",
        "              # for t in texts:\n",
        "              #   print(t.text)\n",
        "              if len(texts)>0:\n",
        "                df.at[index_in_df,texts[1].text[:-1]]=texts[2].text\n",
        "        time.sleep(3)\n",
        "\n",
        "      \n",
        "      # 关闭所有新窗口\n",
        "      for w in new_window_handle:      \n",
        "          driver.switch_to.window(w)\n",
        "          driver.close()\n",
        "      #swith to the origin main window\n",
        "      driver.switch_to.window(original_window_handle)\n",
        "      population_element.click()\n",
        "\n",
        "      index_in_df+=1\n",
        "      # 保存DataFrame到Excel文件\n",
        "      df.to_excel(save_file_path, index=False)\n",
        "\n",
        "    ##############################################################\n",
        "    # Select Built-up dataset\n",
        "    ##############################################################\n",
        "    builtup_element.click()\n",
        "    builtup_options = WebDriverWait(driver, 10).until(\n",
        "        EC.presence_of_all_elements_located((By.CLASS_NAME, 'goog-menuitem-content')))\n",
        "\n",
        "  ##############################################################\n",
        "  # Select City\n",
        "  ##############################################################\n",
        "  city_element.click()\n",
        "  city_options = WebDriverWait(driver, 10).until(\n",
        "      EC.presence_of_all_elements_located((By.CLASS_NAME, 'goog-menuitem-content'))\n",
        "  )"
      ]
    },
    {
      "cell_type": "code",
      "execution_count": 329,
      "metadata": {},
      "outputs": [
        {
          "data": {
            "text/html": [
              "<div>\n",
              "<style scoped>\n",
              "    .dataframe tbody tr th:only-of-type {\n",
              "        vertical-align: middle;\n",
              "    }\n",
              "\n",
              "    .dataframe tbody tr th {\n",
              "        vertical-align: top;\n",
              "    }\n",
              "\n",
              "    .dataframe thead th {\n",
              "        text-align: right;\n",
              "    }\n",
              "</style>\n",
              "<table border=\"1\" class=\"dataframe\">\n",
              "  <thead>\n",
              "    <tr style=\"text-align: right;\">\n",
              "      <th></th>\n",
              "      <th>City</th>\n",
              "      <th>Interval</th>\n",
              "      <th>LCR</th>\n",
              "      <th>PGR</th>\n",
              "      <th>LCRPGR</th>\n",
              "      <th>City Definition data</th>\n",
              "      <th>Built-up data</th>\n",
              "      <th>Population data</th>\n",
              "      <th>Within city definition T1 Built-up (km²)</th>\n",
              "      <th>Within city definition T1 Population (*10,000)</th>\n",
              "      <th>Within city definition T1 LCPC (m²/person)</th>\n",
              "      <th>Within city definition T2 Built-up (km²)</th>\n",
              "      <th>Within city definition T2 Population (*10,000)</th>\n",
              "      <th>Within city definition T2 LCPC (m²/person)</th>\n",
              "      <th>% Change in LCPC LCPC (m²/person)</th>\n",
              "      <th>Built-up T1</th>\n",
              "      <th>Built-up T2</th>\n",
              "    </tr>\n",
              "  </thead>\n",
              "  <tbody>\n",
              "  </tbody>\n",
              "</table>\n",
              "</div>"
            ],
            "text/plain": [
              "Empty DataFrame\n",
              "Columns: [City, Interval, LCR, PGR, LCRPGR, City Definition data, Built-up data, Population data, Within city definition T1 Built-up (km²), Within city definition T1 Population (*10,000), Within city definition T1 LCPC (m²/person), Within city definition T2 Built-up (km²), Within city definition T2 Population (*10,000), Within city definition T2 LCPC (m²/person), % Change in LCPC LCPC (m²/person), Built-up T1, Built-up T2]\n",
              "Index: []"
            ]
          },
          "execution_count": 329,
          "metadata": {},
          "output_type": "execute_result"
        }
      ],
      "source": [
        "df"
      ]
    },
    {
      "cell_type": "code",
      "execution_count": 16,
      "metadata": {},
      "outputs": [],
      "source": [
        "# 保存DataFrame到Excel文件\n",
        "df.to_excel(save_file_path, index=False)"
      ]
    },
    {
      "cell_type": "code",
      "execution_count": 23,
      "metadata": {},
      "outputs": [],
      "source": [
        "# 关闭浏览器窗口\n",
        "driver.quit()"
      ]
    },
    {
      "cell_type": "code",
      "execution_count": 323,
      "metadata": {},
      "outputs": [
        {
          "ename": "NoSuchWindowException",
          "evalue": "Message: no such window: target window already closed\nfrom unknown error: web view not found\n  (Session info: chrome=120.0.6099.71)\nStacktrace:\n\tGetHandleVerifier [0x00676E73+174291]\n\t(No symbol) [0x005A0AC1]\n\t(No symbol) [0x002B6FF6]\n\t(No symbol) [0x0029EFE7]\n\t(No symbol) [0x0030B53B]\n\t(No symbol) [0x0030FAED]\n\t(No symbol) [0x00306FD3]\n\t(No symbol) [0x002E1034]\n\t(No symbol) [0x002E1F8D]\n\tGetHandleVerifier [0x007149CC+820268]\n\tsqlite3_dbdata_init [0x007D4EBE+652494]\n\tsqlite3_dbdata_init [0x007D48D9+650985]\n\tsqlite3_dbdata_init [0x007C962C+605244]\n\tsqlite3_dbdata_init [0x007D586B+654971]\n\t(No symbol) [0x005AFEBC]\n\t(No symbol) [0x005A8428]\n\t(No symbol) [0x005A854D]\n\t(No symbol) [0x00595858]\n\tBaseThreadInitThunk [0x771C7BA9+25]\n\tRtlInitializeExceptionChain [0x774CBD2B+107]\n\tRtlClearBits [0x774CBCAF+191]\n",
          "output_type": "error",
          "traceback": [
            "\u001b[1;31m---------------------------------------------------------------------------\u001b[0m",
            "\u001b[1;31mNoSuchWindowException\u001b[0m                     Traceback (most recent call last)",
            "File \u001b[1;32m~\\AppData\\Local\\Packages\\PythonSoftwareFoundation.Python.3.11_qbz5n2kfra8p0\\LocalCache\\local-packages\\Python311\\site-packages\\selenium\\webdriver\\remote\\switch_to.py:141\u001b[0m, in \u001b[0;36mSwitchTo._w3c_window\u001b[1;34m(self, window_name)\u001b[0m\n\u001b[0;32m    139\u001b[0m \u001b[38;5;28;01mtry\u001b[39;00m:\n\u001b[0;32m    140\u001b[0m     \u001b[38;5;66;03m# Try using it as a handle first.\u001b[39;00m\n\u001b[1;32m--> 141\u001b[0m     \u001b[43msend_handle\u001b[49m\u001b[43m(\u001b[49m\u001b[43mwindow_name\u001b[49m\u001b[43m)\u001b[49m\n\u001b[0;32m    142\u001b[0m \u001b[38;5;28;01mexcept\u001b[39;00m NoSuchWindowException:\n\u001b[0;32m    143\u001b[0m     \u001b[38;5;66;03m# Check every window to try to find the given window name.\u001b[39;00m\n",
            "File \u001b[1;32m~\\AppData\\Local\\Packages\\PythonSoftwareFoundation.Python.3.11_qbz5n2kfra8p0\\LocalCache\\local-packages\\Python311\\site-packages\\selenium\\webdriver\\remote\\switch_to.py:137\u001b[0m, in \u001b[0;36mSwitchTo._w3c_window.<locals>.send_handle\u001b[1;34m(h)\u001b[0m\n\u001b[0;32m    136\u001b[0m \u001b[38;5;28;01mdef\u001b[39;00m \u001b[38;5;21msend_handle\u001b[39m(h):\n\u001b[1;32m--> 137\u001b[0m     \u001b[38;5;28;43mself\u001b[39;49m\u001b[38;5;241;43m.\u001b[39;49m\u001b[43m_driver\u001b[49m\u001b[38;5;241;43m.\u001b[39;49m\u001b[43mexecute\u001b[49m\u001b[43m(\u001b[49m\u001b[43mCommand\u001b[49m\u001b[38;5;241;43m.\u001b[39;49m\u001b[43mSWITCH_TO_WINDOW\u001b[49m\u001b[43m,\u001b[49m\u001b[43m \u001b[49m\u001b[43m{\u001b[49m\u001b[38;5;124;43m\"\u001b[39;49m\u001b[38;5;124;43mhandle\u001b[39;49m\u001b[38;5;124;43m\"\u001b[39;49m\u001b[43m:\u001b[49m\u001b[43m \u001b[49m\u001b[43mh\u001b[49m\u001b[43m}\u001b[49m\u001b[43m)\u001b[49m\n",
            "File \u001b[1;32m~\\AppData\\Local\\Packages\\PythonSoftwareFoundation.Python.3.11_qbz5n2kfra8p0\\LocalCache\\local-packages\\Python311\\site-packages\\selenium\\webdriver\\remote\\webdriver.py:347\u001b[0m, in \u001b[0;36mWebDriver.execute\u001b[1;34m(self, driver_command, params)\u001b[0m\n\u001b[0;32m    346\u001b[0m \u001b[38;5;28;01mif\u001b[39;00m response:\n\u001b[1;32m--> 347\u001b[0m     \u001b[38;5;28;43mself\u001b[39;49m\u001b[38;5;241;43m.\u001b[39;49m\u001b[43merror_handler\u001b[49m\u001b[38;5;241;43m.\u001b[39;49m\u001b[43mcheck_response\u001b[49m\u001b[43m(\u001b[49m\u001b[43mresponse\u001b[49m\u001b[43m)\u001b[49m\n\u001b[0;32m    348\u001b[0m     response[\u001b[38;5;124m\"\u001b[39m\u001b[38;5;124mvalue\u001b[39m\u001b[38;5;124m\"\u001b[39m] \u001b[38;5;241m=\u001b[39m \u001b[38;5;28mself\u001b[39m\u001b[38;5;241m.\u001b[39m_unwrap_value(response\u001b[38;5;241m.\u001b[39mget(\u001b[38;5;124m\"\u001b[39m\u001b[38;5;124mvalue\u001b[39m\u001b[38;5;124m\"\u001b[39m, \u001b[38;5;28;01mNone\u001b[39;00m))\n",
            "File \u001b[1;32m~\\AppData\\Local\\Packages\\PythonSoftwareFoundation.Python.3.11_qbz5n2kfra8p0\\LocalCache\\local-packages\\Python311\\site-packages\\selenium\\webdriver\\remote\\errorhandler.py:229\u001b[0m, in \u001b[0;36mErrorHandler.check_response\u001b[1;34m(self, response)\u001b[0m\n\u001b[0;32m    228\u001b[0m     \u001b[38;5;28;01mraise\u001b[39;00m exception_class(message, screen, stacktrace, alert_text)  \u001b[38;5;66;03m# type: ignore[call-arg]  # mypy is not smart enough here\u001b[39;00m\n\u001b[1;32m--> 229\u001b[0m \u001b[38;5;28;01mraise\u001b[39;00m exception_class(message, screen, stacktrace)\n",
            "\u001b[1;31mNoSuchWindowException\u001b[0m: Message: no such window\n  (Session info: chrome=120.0.6099.71)\nStacktrace:\n\tGetHandleVerifier [0x00676E73+174291]\n\t(No symbol) [0x005A0AC1]\n\t(No symbol) [0x002B6E8A]\n\t(No symbol) [0x00310839]\n\t(No symbol) [0x00306FD3]\n\t(No symbol) [0x002E1034]\n\t(No symbol) [0x002E1F8D]\n\tGetHandleVerifier [0x007149CC+820268]\n\tsqlite3_dbdata_init [0x007D4EBE+652494]\n\tsqlite3_dbdata_init [0x007D48D9+650985]\n\tsqlite3_dbdata_init [0x007C962C+605244]\n\tsqlite3_dbdata_init [0x007D586B+654971]\n\t(No symbol) [0x005AFEBC]\n\t(No symbol) [0x005A8428]\n\t(No symbol) [0x005A854D]\n\t(No symbol) [0x00595858]\n\tBaseThreadInitThunk [0x771C7BA9+25]\n\tRtlInitializeExceptionChain [0x774CBD2B+107]\n\tRtlClearBits [0x774CBCAF+191]\n",
            "\nDuring handling of the above exception, another exception occurred:\n",
            "\u001b[1;31mNoSuchWindowException\u001b[0m                     Traceback (most recent call last)",
            "Cell \u001b[1;32mIn[323], line 3\u001b[0m\n\u001b[0;32m      1\u001b[0m \u001b[38;5;66;03m# 关闭所有新窗口\u001b[39;00m\n\u001b[0;32m      2\u001b[0m \u001b[38;5;28;01mfor\u001b[39;00m w \u001b[38;5;129;01min\u001b[39;00m new_window_handle:      \n\u001b[1;32m----> 3\u001b[0m     \u001b[43mdriver\u001b[49m\u001b[38;5;241;43m.\u001b[39;49m\u001b[43mswitch_to\u001b[49m\u001b[38;5;241;43m.\u001b[39;49m\u001b[43mwindow\u001b[49m\u001b[43m(\u001b[49m\u001b[43mw\u001b[49m\u001b[43m)\u001b[49m\n\u001b[0;32m      4\u001b[0m     driver\u001b[38;5;241m.\u001b[39mclose()\n\u001b[0;32m      5\u001b[0m \u001b[38;5;66;03m#swith to the origin main window\u001b[39;00m\n",
            "File \u001b[1;32m~\\AppData\\Local\\Packages\\PythonSoftwareFoundation.Python.3.11_qbz5n2kfra8p0\\LocalCache\\local-packages\\Python311\\site-packages\\selenium\\webdriver\\remote\\switch_to.py:133\u001b[0m, in \u001b[0;36mSwitchTo.window\u001b[1;34m(self, window_name)\u001b[0m\n\u001b[0;32m    122\u001b[0m \u001b[38;5;28;01mdef\u001b[39;00m \u001b[38;5;21mwindow\u001b[39m(\u001b[38;5;28mself\u001b[39m, window_name: \u001b[38;5;28mstr\u001b[39m) \u001b[38;5;241m-\u001b[39m\u001b[38;5;241m>\u001b[39m \u001b[38;5;28;01mNone\u001b[39;00m:\n\u001b[0;32m    123\u001b[0m \u001b[38;5;250m    \u001b[39m\u001b[38;5;124;03m\"\"\"Switches focus to the specified window.\u001b[39;00m\n\u001b[0;32m    124\u001b[0m \n\u001b[0;32m    125\u001b[0m \u001b[38;5;124;03m    :Args:\u001b[39;00m\n\u001b[1;32m   (...)\u001b[0m\n\u001b[0;32m    131\u001b[0m \u001b[38;5;124;03m            driver.switch_to.window('main')\u001b[39;00m\n\u001b[0;32m    132\u001b[0m \u001b[38;5;124;03m    \"\"\"\u001b[39;00m\n\u001b[1;32m--> 133\u001b[0m     \u001b[38;5;28;43mself\u001b[39;49m\u001b[38;5;241;43m.\u001b[39;49m\u001b[43m_w3c_window\u001b[49m\u001b[43m(\u001b[49m\u001b[43mwindow_name\u001b[49m\u001b[43m)\u001b[49m\n",
            "File \u001b[1;32m~\\AppData\\Local\\Packages\\PythonSoftwareFoundation.Python.3.11_qbz5n2kfra8p0\\LocalCache\\local-packages\\Python311\\site-packages\\selenium\\webdriver\\remote\\switch_to.py:144\u001b[0m, in \u001b[0;36mSwitchTo._w3c_window\u001b[1;34m(self, window_name)\u001b[0m\n\u001b[0;32m    141\u001b[0m     send_handle(window_name)\n\u001b[0;32m    142\u001b[0m \u001b[38;5;28;01mexcept\u001b[39;00m NoSuchWindowException:\n\u001b[0;32m    143\u001b[0m     \u001b[38;5;66;03m# Check every window to try to find the given window name.\u001b[39;00m\n\u001b[1;32m--> 144\u001b[0m     original_handle \u001b[38;5;241m=\u001b[39m \u001b[38;5;28;43mself\u001b[39;49m\u001b[38;5;241;43m.\u001b[39;49m\u001b[43m_driver\u001b[49m\u001b[38;5;241;43m.\u001b[39;49m\u001b[43mcurrent_window_handle\u001b[49m\n\u001b[0;32m    145\u001b[0m     handles \u001b[38;5;241m=\u001b[39m \u001b[38;5;28mself\u001b[39m\u001b[38;5;241m.\u001b[39m_driver\u001b[38;5;241m.\u001b[39mwindow_handles\n\u001b[0;32m    146\u001b[0m     \u001b[38;5;28;01mfor\u001b[39;00m handle \u001b[38;5;129;01min\u001b[39;00m handles:\n",
            "File \u001b[1;32m~\\AppData\\Local\\Packages\\PythonSoftwareFoundation.Python.3.11_qbz5n2kfra8p0\\LocalCache\\local-packages\\Python311\\site-packages\\selenium\\webdriver\\remote\\webdriver.py:483\u001b[0m, in \u001b[0;36mWebDriver.current_window_handle\u001b[1;34m(self)\u001b[0m\n\u001b[0;32m    474\u001b[0m \u001b[38;5;129m@property\u001b[39m\n\u001b[0;32m    475\u001b[0m \u001b[38;5;28;01mdef\u001b[39;00m \u001b[38;5;21mcurrent_window_handle\u001b[39m(\u001b[38;5;28mself\u001b[39m) \u001b[38;5;241m-\u001b[39m\u001b[38;5;241m>\u001b[39m \u001b[38;5;28mstr\u001b[39m:\n\u001b[0;32m    476\u001b[0m \u001b[38;5;250m    \u001b[39m\u001b[38;5;124;03m\"\"\"Returns the handle of the current window.\u001b[39;00m\n\u001b[0;32m    477\u001b[0m \n\u001b[0;32m    478\u001b[0m \u001b[38;5;124;03m    :Usage:\u001b[39;00m\n\u001b[1;32m   (...)\u001b[0m\n\u001b[0;32m    481\u001b[0m \u001b[38;5;124;03m            driver.current_window_handle\u001b[39;00m\n\u001b[0;32m    482\u001b[0m \u001b[38;5;124;03m    \"\"\"\u001b[39;00m\n\u001b[1;32m--> 483\u001b[0m     \u001b[38;5;28;01mreturn\u001b[39;00m \u001b[38;5;28;43mself\u001b[39;49m\u001b[38;5;241;43m.\u001b[39;49m\u001b[43mexecute\u001b[49m\u001b[43m(\u001b[49m\u001b[43mCommand\u001b[49m\u001b[38;5;241;43m.\u001b[39;49m\u001b[43mW3C_GET_CURRENT_WINDOW_HANDLE\u001b[49m\u001b[43m)\u001b[49m[\u001b[38;5;124m\"\u001b[39m\u001b[38;5;124mvalue\u001b[39m\u001b[38;5;124m\"\u001b[39m]\n",
            "File \u001b[1;32m~\\AppData\\Local\\Packages\\PythonSoftwareFoundation.Python.3.11_qbz5n2kfra8p0\\LocalCache\\local-packages\\Python311\\site-packages\\selenium\\webdriver\\remote\\webdriver.py:347\u001b[0m, in \u001b[0;36mWebDriver.execute\u001b[1;34m(self, driver_command, params)\u001b[0m\n\u001b[0;32m    345\u001b[0m response \u001b[38;5;241m=\u001b[39m \u001b[38;5;28mself\u001b[39m\u001b[38;5;241m.\u001b[39mcommand_executor\u001b[38;5;241m.\u001b[39mexecute(driver_command, params)\n\u001b[0;32m    346\u001b[0m \u001b[38;5;28;01mif\u001b[39;00m response:\n\u001b[1;32m--> 347\u001b[0m     \u001b[38;5;28;43mself\u001b[39;49m\u001b[38;5;241;43m.\u001b[39;49m\u001b[43merror_handler\u001b[49m\u001b[38;5;241;43m.\u001b[39;49m\u001b[43mcheck_response\u001b[49m\u001b[43m(\u001b[49m\u001b[43mresponse\u001b[49m\u001b[43m)\u001b[49m\n\u001b[0;32m    348\u001b[0m     response[\u001b[38;5;124m\"\u001b[39m\u001b[38;5;124mvalue\u001b[39m\u001b[38;5;124m\"\u001b[39m] \u001b[38;5;241m=\u001b[39m \u001b[38;5;28mself\u001b[39m\u001b[38;5;241m.\u001b[39m_unwrap_value(response\u001b[38;5;241m.\u001b[39mget(\u001b[38;5;124m\"\u001b[39m\u001b[38;5;124mvalue\u001b[39m\u001b[38;5;124m\"\u001b[39m, \u001b[38;5;28;01mNone\u001b[39;00m))\n\u001b[0;32m    349\u001b[0m     \u001b[38;5;28;01mreturn\u001b[39;00m response\n",
            "File \u001b[1;32m~\\AppData\\Local\\Packages\\PythonSoftwareFoundation.Python.3.11_qbz5n2kfra8p0\\LocalCache\\local-packages\\Python311\\site-packages\\selenium\\webdriver\\remote\\errorhandler.py:229\u001b[0m, in \u001b[0;36mErrorHandler.check_response\u001b[1;34m(self, response)\u001b[0m\n\u001b[0;32m    227\u001b[0m         alert_text \u001b[38;5;241m=\u001b[39m value[\u001b[38;5;124m\"\u001b[39m\u001b[38;5;124malert\u001b[39m\u001b[38;5;124m\"\u001b[39m]\u001b[38;5;241m.\u001b[39mget(\u001b[38;5;124m\"\u001b[39m\u001b[38;5;124mtext\u001b[39m\u001b[38;5;124m\"\u001b[39m)\n\u001b[0;32m    228\u001b[0m     \u001b[38;5;28;01mraise\u001b[39;00m exception_class(message, screen, stacktrace, alert_text)  \u001b[38;5;66;03m# type: ignore[call-arg]  # mypy is not smart enough here\u001b[39;00m\n\u001b[1;32m--> 229\u001b[0m \u001b[38;5;28;01mraise\u001b[39;00m exception_class(message, screen, stacktrace)\n",
            "\u001b[1;31mNoSuchWindowException\u001b[0m: Message: no such window: target window already closed\nfrom unknown error: web view not found\n  (Session info: chrome=120.0.6099.71)\nStacktrace:\n\tGetHandleVerifier [0x00676E73+174291]\n\t(No symbol) [0x005A0AC1]\n\t(No symbol) [0x002B6FF6]\n\t(No symbol) [0x0029EFE7]\n\t(No symbol) [0x0030B53B]\n\t(No symbol) [0x0030FAED]\n\t(No symbol) [0x00306FD3]\n\t(No symbol) [0x002E1034]\n\t(No symbol) [0x002E1F8D]\n\tGetHandleVerifier [0x007149CC+820268]\n\tsqlite3_dbdata_init [0x007D4EBE+652494]\n\tsqlite3_dbdata_init [0x007D48D9+650985]\n\tsqlite3_dbdata_init [0x007C962C+605244]\n\tsqlite3_dbdata_init [0x007D586B+654971]\n\t(No symbol) [0x005AFEBC]\n\t(No symbol) [0x005A8428]\n\t(No symbol) [0x005A854D]\n\t(No symbol) [0x00595858]\n\tBaseThreadInitThunk [0x771C7BA9+25]\n\tRtlInitializeExceptionChain [0x774CBD2B+107]\n\tRtlClearBits [0x774CBCAF+191]\n"
          ]
        }
      ],
      "source": [
        "# 关闭所有新窗口\n",
        "for w in new_window_handle:      \n",
        "    driver.switch_to.window(w)\n",
        "    driver.close()\n",
        "#swith to the origin main window\n",
        "driver.switch_to.window(original_window_handle)"
      ]
    },
    {
      "cell_type": "code",
      "execution_count": 293,
      "metadata": {},
      "outputs": [],
      "source": [
        "builtup_element = driver.find_elements(By.CSS_SELECTOR, '#content > div > div.ui-widget.ui-panel.stretch-horizontal.stretch-vertical > div > div.ui-widget.custom-width.ui-panel > div > div:nth-child(4) > div > div:nth-child(3) > div > div > div > div:nth-child(1) > div > div.ui-widget.ui-select > div')[0]"
      ]
    },
    {
      "cell_type": "code",
      "execution_count": 299,
      "metadata": {},
      "outputs": [],
      "source": [
        "##############################################################\n",
        "# Select builtup dataset\n",
        "##############################################################\n",
        "builtup_element = driver.find_elements(By.CSS_SELECTOR, '#content > div > div.ui-widget.ui-panel.stretch-horizontal.stretch-vertical > div > div.ui-widget.custom-width.ui-panel > div > div:nth-child(4) > div > div:nth-child(3) > div > div > div > div:nth-child(1) > div > div.ui-widget.ui-select > div')[0]\n",
        "builtup_element.click()\n",
        "builtup_options = WebDriverWait(driver, 10).until(\n",
        "    EC.presence_of_all_elements_located((By.CLASS_NAME, 'goog-menuitem-content'))\n",
        ")"
      ]
    },
    {
      "cell_type": "code",
      "execution_count": 298,
      "metadata": {},
      "outputs": [
        {
          "ename": "ElementClickInterceptedException",
          "evalue": "Message: element click intercepted: Element <div class=\"goog-inline-block goog-flat-menu-button jfk-select goog-flat-menu-button-focused goog-flat-menu-button-open\" role=\"listbox\" aria-expanded=\"true\" tabindex=\"0\" aria-haspopup=\"true\" style=\"user-select: none;\" aria-activedescendant=\":7u\" aria-owns=\":7u\">...</div> is not clickable at point (142, 923). Other element would receive the click: <div class=\"goog-menuitem-content\" style=\"user-select: none;\">...</div>\n  (Session info: chrome=120.0.6099.71)\nStacktrace:\n\tGetHandleVerifier [0x00676E73+174291]\n\t(No symbol) [0x005A0AC1]\n\t(No symbol) [0x002B6FF6]\n\t(No symbol) [0x002EE48E]\n\t(No symbol) [0x002ED09E]\n\t(No symbol) [0x002EB5F8]\n\t(No symbol) [0x002EAD7F]\n\t(No symbol) [0x002E2B4E]\n\t(No symbol) [0x0030700C]\n\t(No symbol) [0x002E25B0]\n\t(No symbol) [0x00307414]\n\t(No symbol) [0x0031A104]\n\t(No symbol) [0x00306DA6]\n\t(No symbol) [0x002E1034]\n\t(No symbol) [0x002E1F8D]\n\tGetHandleVerifier [0x007149CC+820268]\n\tsqlite3_dbdata_init [0x007D4EBE+652494]\n\tsqlite3_dbdata_init [0x007D48D9+650985]\n\tsqlite3_dbdata_init [0x007C962C+605244]\n\tsqlite3_dbdata_init [0x007D586B+654971]\n\t(No symbol) [0x005AFEBC]\n\t(No symbol) [0x005A8428]\n\t(No symbol) [0x005A854D]\n\t(No symbol) [0x00595858]\n\tBaseThreadInitThunk [0x771C7BA9+25]\n\tRtlInitializeExceptionChain [0x774CBD2B+107]\n\tRtlClearBits [0x774CBCAF+191]\n",
          "output_type": "error",
          "traceback": [
            "\u001b[1;31m---------------------------------------------------------------------------\u001b[0m",
            "\u001b[1;31mElementClickInterceptedException\u001b[0m          Traceback (most recent call last)",
            "Cell \u001b[1;32mIn[298], line 5\u001b[0m\n\u001b[0;32m      1\u001b[0m \u001b[38;5;66;03m##############################################################\u001b[39;00m\n\u001b[0;32m      2\u001b[0m \u001b[38;5;66;03m# Select Population dataset\u001b[39;00m\n\u001b[0;32m      3\u001b[0m \u001b[38;5;66;03m##############################################################\u001b[39;00m\n\u001b[0;32m      4\u001b[0m population_element \u001b[38;5;241m=\u001b[39m driver\u001b[38;5;241m.\u001b[39mfind_elements(By\u001b[38;5;241m.\u001b[39mCSS_SELECTOR, \u001b[38;5;124m'\u001b[39m\u001b[38;5;124m#content > div > div.ui-widget.ui-panel.stretch-horizontal.stretch-vertical > div > div.ui-widget.custom-width.ui-panel > div > div:nth-child(4) > div > div:nth-child(3) > div > div > div > div:nth-child(3) > div > div.ui-widget.ui-select > div\u001b[39m\u001b[38;5;124m'\u001b[39m)[\u001b[38;5;241m0\u001b[39m]\n\u001b[1;32m----> 5\u001b[0m \u001b[43mpopulation_element\u001b[49m\u001b[38;5;241;43m.\u001b[39;49m\u001b[43mclick\u001b[49m\u001b[43m(\u001b[49m\u001b[43m)\u001b[49m\n\u001b[0;32m      6\u001b[0m population_options \u001b[38;5;241m=\u001b[39m WebDriverWait(driver, \u001b[38;5;241m10\u001b[39m)\u001b[38;5;241m.\u001b[39muntil(\n\u001b[0;32m      7\u001b[0m     EC\u001b[38;5;241m.\u001b[39mpresence_of_all_elements_located((By\u001b[38;5;241m.\u001b[39mCLASS_NAME, \u001b[38;5;124m'\u001b[39m\u001b[38;5;124mgoog-menuitem-content\u001b[39m\u001b[38;5;124m'\u001b[39m))\n\u001b[0;32m      8\u001b[0m )\n",
            "File \u001b[1;32m~\\AppData\\Local\\Packages\\PythonSoftwareFoundation.Python.3.11_qbz5n2kfra8p0\\LocalCache\\local-packages\\Python311\\site-packages\\selenium\\webdriver\\remote\\webelement.py:93\u001b[0m, in \u001b[0;36mWebElement.click\u001b[1;34m(self)\u001b[0m\n\u001b[0;32m     91\u001b[0m \u001b[38;5;28;01mdef\u001b[39;00m \u001b[38;5;21mclick\u001b[39m(\u001b[38;5;28mself\u001b[39m) \u001b[38;5;241m-\u001b[39m\u001b[38;5;241m>\u001b[39m \u001b[38;5;28;01mNone\u001b[39;00m:\n\u001b[0;32m     92\u001b[0m \u001b[38;5;250m    \u001b[39m\u001b[38;5;124;03m\"\"\"Clicks the element.\"\"\"\u001b[39;00m\n\u001b[1;32m---> 93\u001b[0m     \u001b[38;5;28;43mself\u001b[39;49m\u001b[38;5;241;43m.\u001b[39;49m\u001b[43m_execute\u001b[49m\u001b[43m(\u001b[49m\u001b[43mCommand\u001b[49m\u001b[38;5;241;43m.\u001b[39;49m\u001b[43mCLICK_ELEMENT\u001b[49m\u001b[43m)\u001b[49m\n",
            "File \u001b[1;32m~\\AppData\\Local\\Packages\\PythonSoftwareFoundation.Python.3.11_qbz5n2kfra8p0\\LocalCache\\local-packages\\Python311\\site-packages\\selenium\\webdriver\\remote\\webelement.py:394\u001b[0m, in \u001b[0;36mWebElement._execute\u001b[1;34m(self, command, params)\u001b[0m\n\u001b[0;32m    392\u001b[0m     params \u001b[38;5;241m=\u001b[39m {}\n\u001b[0;32m    393\u001b[0m params[\u001b[38;5;124m\"\u001b[39m\u001b[38;5;124mid\u001b[39m\u001b[38;5;124m\"\u001b[39m] \u001b[38;5;241m=\u001b[39m \u001b[38;5;28mself\u001b[39m\u001b[38;5;241m.\u001b[39m_id\n\u001b[1;32m--> 394\u001b[0m \u001b[38;5;28;01mreturn\u001b[39;00m \u001b[38;5;28;43mself\u001b[39;49m\u001b[38;5;241;43m.\u001b[39;49m\u001b[43m_parent\u001b[49m\u001b[38;5;241;43m.\u001b[39;49m\u001b[43mexecute\u001b[49m\u001b[43m(\u001b[49m\u001b[43mcommand\u001b[49m\u001b[43m,\u001b[49m\u001b[43m \u001b[49m\u001b[43mparams\u001b[49m\u001b[43m)\u001b[49m\n",
            "File \u001b[1;32m~\\AppData\\Local\\Packages\\PythonSoftwareFoundation.Python.3.11_qbz5n2kfra8p0\\LocalCache\\local-packages\\Python311\\site-packages\\selenium\\webdriver\\remote\\webdriver.py:347\u001b[0m, in \u001b[0;36mWebDriver.execute\u001b[1;34m(self, driver_command, params)\u001b[0m\n\u001b[0;32m    345\u001b[0m response \u001b[38;5;241m=\u001b[39m \u001b[38;5;28mself\u001b[39m\u001b[38;5;241m.\u001b[39mcommand_executor\u001b[38;5;241m.\u001b[39mexecute(driver_command, params)\n\u001b[0;32m    346\u001b[0m \u001b[38;5;28;01mif\u001b[39;00m response:\n\u001b[1;32m--> 347\u001b[0m     \u001b[38;5;28;43mself\u001b[39;49m\u001b[38;5;241;43m.\u001b[39;49m\u001b[43merror_handler\u001b[49m\u001b[38;5;241;43m.\u001b[39;49m\u001b[43mcheck_response\u001b[49m\u001b[43m(\u001b[49m\u001b[43mresponse\u001b[49m\u001b[43m)\u001b[49m\n\u001b[0;32m    348\u001b[0m     response[\u001b[38;5;124m\"\u001b[39m\u001b[38;5;124mvalue\u001b[39m\u001b[38;5;124m\"\u001b[39m] \u001b[38;5;241m=\u001b[39m \u001b[38;5;28mself\u001b[39m\u001b[38;5;241m.\u001b[39m_unwrap_value(response\u001b[38;5;241m.\u001b[39mget(\u001b[38;5;124m\"\u001b[39m\u001b[38;5;124mvalue\u001b[39m\u001b[38;5;124m\"\u001b[39m, \u001b[38;5;28;01mNone\u001b[39;00m))\n\u001b[0;32m    349\u001b[0m     \u001b[38;5;28;01mreturn\u001b[39;00m response\n",
            "File \u001b[1;32m~\\AppData\\Local\\Packages\\PythonSoftwareFoundation.Python.3.11_qbz5n2kfra8p0\\LocalCache\\local-packages\\Python311\\site-packages\\selenium\\webdriver\\remote\\errorhandler.py:229\u001b[0m, in \u001b[0;36mErrorHandler.check_response\u001b[1;34m(self, response)\u001b[0m\n\u001b[0;32m    227\u001b[0m         alert_text \u001b[38;5;241m=\u001b[39m value[\u001b[38;5;124m\"\u001b[39m\u001b[38;5;124malert\u001b[39m\u001b[38;5;124m\"\u001b[39m]\u001b[38;5;241m.\u001b[39mget(\u001b[38;5;124m\"\u001b[39m\u001b[38;5;124mtext\u001b[39m\u001b[38;5;124m\"\u001b[39m)\n\u001b[0;32m    228\u001b[0m     \u001b[38;5;28;01mraise\u001b[39;00m exception_class(message, screen, stacktrace, alert_text)  \u001b[38;5;66;03m# type: ignore[call-arg]  # mypy is not smart enough here\u001b[39;00m\n\u001b[1;32m--> 229\u001b[0m \u001b[38;5;28;01mraise\u001b[39;00m exception_class(message, screen, stacktrace)\n",
            "\u001b[1;31mElementClickInterceptedException\u001b[0m: Message: element click intercepted: Element <div class=\"goog-inline-block goog-flat-menu-button jfk-select goog-flat-menu-button-focused goog-flat-menu-button-open\" role=\"listbox\" aria-expanded=\"true\" tabindex=\"0\" aria-haspopup=\"true\" style=\"user-select: none;\" aria-activedescendant=\":7u\" aria-owns=\":7u\">...</div> is not clickable at point (142, 923). Other element would receive the click: <div class=\"goog-menuitem-content\" style=\"user-select: none;\">...</div>\n  (Session info: chrome=120.0.6099.71)\nStacktrace:\n\tGetHandleVerifier [0x00676E73+174291]\n\t(No symbol) [0x005A0AC1]\n\t(No symbol) [0x002B6FF6]\n\t(No symbol) [0x002EE48E]\n\t(No symbol) [0x002ED09E]\n\t(No symbol) [0x002EB5F8]\n\t(No symbol) [0x002EAD7F]\n\t(No symbol) [0x002E2B4E]\n\t(No symbol) [0x0030700C]\n\t(No symbol) [0x002E25B0]\n\t(No symbol) [0x00307414]\n\t(No symbol) [0x0031A104]\n\t(No symbol) [0x00306DA6]\n\t(No symbol) [0x002E1034]\n\t(No symbol) [0x002E1F8D]\n\tGetHandleVerifier [0x007149CC+820268]\n\tsqlite3_dbdata_init [0x007D4EBE+652494]\n\tsqlite3_dbdata_init [0x007D48D9+650985]\n\tsqlite3_dbdata_init [0x007C962C+605244]\n\tsqlite3_dbdata_init [0x007D586B+654971]\n\t(No symbol) [0x005AFEBC]\n\t(No symbol) [0x005A8428]\n\t(No symbol) [0x005A854D]\n\t(No symbol) [0x00595858]\n\tBaseThreadInitThunk [0x771C7BA9+25]\n\tRtlInitializeExceptionChain [0x774CBD2B+107]\n\tRtlClearBits [0x774CBCAF+191]\n"
          ]
        }
      ],
      "source": [
        "##############################################################\n",
        "# Select Population dataset\n",
        "##############################################################\n",
        "population_element = driver.find_elements(By.CSS_SELECTOR, '#content > div > div.ui-widget.ui-panel.stretch-horizontal.stretch-vertical > div > div.ui-widget.custom-width.ui-panel > div > div:nth-child(4) > div > div:nth-child(3) > div > div > div > div:nth-child(3) > div > div.ui-widget.ui-select > div')[0]\n",
        "population_element.click()\n",
        "population_options = WebDriverWait(driver, 10).until(\n",
        "    EC.presence_of_all_elements_located((By.CLASS_NAME, 'goog-menuitem-content'))\n",
        ")\n"
      ]
    },
    {
      "cell_type": "code",
      "execution_count": 325,
      "metadata": {},
      "outputs": [
        {
          "name": "stdout",
          "output_type": "stream",
          "text": [
            "Clicking on city Stockholm - index:0\n",
            "Clicking on builtup GHS-Built 30m - index: 48\n",
            "Clicking on  population GHS-Pop 100m - index: 52\n",
            "Clicking on  population WorldPop 100m - index: 53\n",
            "Clicking on  population GPWv4 30 arc-second - index: 54\n",
            "Clicking on builtup WSF evolution - index: 49\n",
            "Clicking on  population GHS-Pop 100m - index: 52\n",
            "Clicking on  population WorldPop 100m - index: 53\n",
            "Clicking on  population GPWv4 30 arc-second - index: 54\n",
            "Clicking on builtup GHS_Built_S 100m - index: 50\n",
            "Clicking on  population GHS-Pop 100m - index: 52\n",
            "Clicking on  population WorldPop 100m - index: 53\n"
          ]
        },
        {
          "ename": "KeyboardInterrupt",
          "evalue": "",
          "output_type": "error",
          "traceback": [
            "\u001b[1;31m---------------------------------------------------------------------------\u001b[0m",
            "\u001b[1;31mKeyboardInterrupt\u001b[0m                         Traceback (most recent call last)",
            "Cell \u001b[1;32mIn[325], line 54\u001b[0m\n\u001b[0;32m     52\u001b[0m   compute_element\u001b[38;5;241m=\u001b[39mdriver\u001b[38;5;241m.\u001b[39mfind_elements(By\u001b[38;5;241m.\u001b[39mCSS_SELECTOR, \u001b[38;5;124m'\u001b[39m\u001b[38;5;124m#content > div > div.ui-widget.ui-panel.stretch-horizontal.stretch-vertical > div > div.ui-widget.custom-width.ui-panel > div > div:nth-child(4) > div > div:nth-child(4) > div > div > div > div.ui-widget.ui-button > div\u001b[39m\u001b[38;5;124m'\u001b[39m)[\u001b[38;5;241m0\u001b[39m]\n\u001b[0;32m     53\u001b[0m   compute_element\u001b[38;5;241m.\u001b[39mclick()\n\u001b[1;32m---> 54\u001b[0m   \u001b[43mtime\u001b[49m\u001b[38;5;241;43m.\u001b[39;49m\u001b[43msleep\u001b[49m\u001b[43m(\u001b[49m\u001b[38;5;241;43m5\u001b[39;49m\u001b[43m)\u001b[49m\n\u001b[0;32m     55\u001b[0m   population_element\u001b[38;5;241m.\u001b[39mclick() \n\u001b[0;32m     59\u001b[0m \u001b[38;5;66;03m##############################################################\u001b[39;00m\n\u001b[0;32m     60\u001b[0m \u001b[38;5;66;03m# Select Built-up dataset\u001b[39;00m\n\u001b[0;32m     61\u001b[0m \u001b[38;5;66;03m##############################################################\u001b[39;00m\n",
            "\u001b[1;31mKeyboardInterrupt\u001b[0m: "
          ]
        }
      ],
      "source": [
        "\n",
        "##############################################################\n",
        "# interate City\n",
        "##############################################################\n",
        "for index, city in enumerate(city_options[0:],start=0):\n",
        "  if city.text=='':\n",
        "        continue\n",
        "  city_name = city.text\n",
        "  print(f\"Clicking on city {city_name} - index:{index}\")\n",
        "\n",
        "  # 点击城市\n",
        "  city.click()\n",
        "\n",
        "  ##############################################################\n",
        "  # iterate builtup dataset\n",
        "  ##############################################################\n",
        "  builtup_element.click()\n",
        "  builtup_options = WebDriverWait(driver, 10).until(\n",
        "      EC.presence_of_all_elements_located((By.CLASS_NAME, 'goog-menuitem-content')))  \n",
        "\n",
        "  for index, builtup in enumerate(builtup_options[0:],start=0):    \n",
        "    if builtup.text=='':\n",
        "        continue\n",
        "    if builtup.text=='Own data':\n",
        "        builtup.click()\n",
        "        break\n",
        "    print(f'Clicking on builtup {builtup.text} - index: {index}')\n",
        "    builtup.click()\n",
        "\n",
        "    ##############################################################\n",
        "    # iterate Population dataset\n",
        "    ##############################################################\n",
        "    population_element.click()\n",
        "    population_options = WebDriverWait(driver, 10).until(\n",
        "        EC.presence_of_all_elements_located((By.CLASS_NAME, 'goog-menuitem-content'))\n",
        "    )\n",
        "      \n",
        "    for index, population in enumerate(population_options[0:],start=0):      \n",
        "      if population.text=='':\n",
        "        continue   \n",
        "      if population.text=='Own data':\n",
        "         population.click()\n",
        "         break     \n",
        "            \n",
        "      print(f'Clicking on  population {population.text} - index: {index}') \n",
        "      population.click()     \n",
        "      \n",
        "\n",
        "      ##############################################################\n",
        "      # compute indicators\n",
        "      ##############################################################\n",
        "      #click the compute button\n",
        "      compute_element=driver.find_elements(By.CSS_SELECTOR, '#content > div > div.ui-widget.ui-panel.stretch-horizontal.stretch-vertical > div > div.ui-widget.custom-width.ui-panel > div > div:nth-child(4) > div > div:nth-child(4) > div > div > div > div.ui-widget.ui-button > div')[0]\n",
        "      compute_element.click()\n",
        "      time.sleep(5)\n",
        "      population_element.click() \n",
        "\n",
        "           \n",
        "\n",
        "    ##############################################################\n",
        "    # Select Built-up dataset\n",
        "    ##############################################################\n",
        "    builtup_element.click()\n",
        "    builtup_options = WebDriverWait(driver, 10).until(\n",
        "        EC.presence_of_all_elements_located((By.CLASS_NAME, 'goog-menuitem-content')))\n",
        "\n",
        "  ##############################################################\n",
        "  # Select City\n",
        "  ##############################################################\n",
        "  city_element.click()\n",
        "  city_options = WebDriverWait(driver, 10).until(\n",
        "      EC.presence_of_all_elements_located((By.CLASS_NAME, 'goog-menuitem-content'))\n",
        "  )"
      ]
    },
    {
      "cell_type": "markdown",
      "metadata": {},
      "source": [
        "\n"
      ]
    }
  ],
  "metadata": {
    "kernelspec": {
      "display_name": "Python 3",
      "language": "python",
      "name": "python3"
    },
    "language_info": {
      "codemirror_mode": {
        "name": "ipython",
        "version": 3
      },
      "file_extension": ".py",
      "mimetype": "text/x-python",
      "name": "python",
      "nbconvert_exporter": "python",
      "pygments_lexer": "ipython3",
      "version": "3.11.7"
    }
  },
  "nbformat": 4,
  "nbformat_minor": 2
}
